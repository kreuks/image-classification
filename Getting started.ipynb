{
 "cells": [
  {
   "cell_type": "code",
   "execution_count": 1,
   "metadata": {
    "collapsed": true
   },
   "outputs": [],
   "source": [
    "import tensorflow as tf"
   ]
  },
  {
   "cell_type": "code",
   "execution_count": 2,
   "metadata": {
    "collapsed": false
   },
   "outputs": [
    {
     "name": "stdout",
     "output_type": "stream",
     "text": [
      "Tensor(\"Const:0\", shape=(), dtype=float32) Tensor(\"Const_1:0\", shape=(), dtype=float32)\n"
     ]
    }
   ],
   "source": [
    "node1 = tf.constant(3.0, dtype=tf.float32)\n",
    "node2 = tf.constant(4.0)\n",
    "print node1, node2\n"
   ]
  },
  {
   "cell_type": "code",
   "execution_count": 3,
   "metadata": {
    "collapsed": false
   },
   "outputs": [
    {
     "name": "stdout",
     "output_type": "stream",
     "text": [
      "[3.0, 4.0]\n"
     ]
    }
   ],
   "source": [
    "sess = tf.Session()\n",
    "print sess.run([node1, node2])"
   ]
  },
  {
   "cell_type": "code",
   "execution_count": 4,
   "metadata": {
    "collapsed": false
   },
   "outputs": [
    {
     "name": "stdout",
     "output_type": "stream",
     "text": [
      "Tensor(\"Add:0\", shape=(), dtype=float32)\n",
      "7.0\n"
     ]
    }
   ],
   "source": [
    "node3 = tf.add(node1, node2)\n",
    "print node3\n",
    "print sess.run(node3)\n",
    "file_writer = tf.summary.FileWriter('logs', sess.graph)"
   ]
  },
  {
   "cell_type": "code",
   "execution_count": 5,
   "metadata": {
    "collapsed": false
   },
   "outputs": [],
   "source": [
    "a = tf.placeholder(tf.float32)\n",
    "b = tf.placeholder(tf.float32)\n",
    "adder_node = a + b\n"
   ]
  },
  {
   "cell_type": "code",
   "execution_count": 6,
   "metadata": {
    "collapsed": false
   },
   "outputs": [
    {
     "name": "stdout",
     "output_type": "stream",
     "text": [
      "[ 126.912323   15.      ]\n"
     ]
    },
    {
     "data": {
      "text/plain": [
       "<tensorflow.python.summary.writer.writer.FileWriter at 0x7fa04c06cd90>"
      ]
     },
     "execution_count": 6,
     "metadata": {},
     "output_type": "execute_result"
    }
   ],
   "source": [
    "print sess.run(adder_node, {a: [3], b: [123.91232, 12]})\n",
    "tf.summary.FileWriter('logs', sess.graph)"
   ]
  },
  {
   "cell_type": "code",
   "execution_count": 7,
   "metadata": {
    "collapsed": false
   },
   "outputs": [
    {
     "name": "stdout",
     "output_type": "stream",
     "text": [
      "25.5\n"
     ]
    }
   ],
   "source": [
    "add_and_triple = adder_node * 3\n",
    "print sess.run(add_and_triple, {a: 4, b: 4.5})"
   ]
  },
  {
   "cell_type": "code",
   "execution_count": 8,
   "metadata": {
    "collapsed": true
   },
   "outputs": [],
   "source": [
    "W = tf.Variable([.3], dtype=tf.float32)\n",
    "b = tf.Variable([-.3], dtype=tf.float32)\n",
    "x = tf.placeholder(tf.float32)\n",
    "linear_model = W * x + b"
   ]
  },
  {
   "cell_type": "code",
   "execution_count": 9,
   "metadata": {
    "collapsed": true
   },
   "outputs": [],
   "source": [
    "init = tf.global_variables_initializer()\n",
    "sess.run(init)"
   ]
  },
  {
   "cell_type": "code",
   "execution_count": 10,
   "metadata": {
    "collapsed": false
   },
   "outputs": [
    {
     "name": "stdout",
     "output_type": "stream",
     "text": [
      "[ 0.          0.30000001  0.60000002  0.90000004]\n"
     ]
    }
   ],
   "source": [
    "print sess.run(linear_model, {x: [1,2,3,4]})"
   ]
  },
  {
   "cell_type": "code",
   "execution_count": 11,
   "metadata": {
    "collapsed": false
   },
   "outputs": [
    {
     "name": "stdout",
     "output_type": "stream",
     "text": [
      "23.66\n"
     ]
    }
   ],
   "source": [
    "y = tf.placeholder(tf.float32)\n",
    "squared_deltas = tf.square(linear_model - y)\n",
    "loss = tf.reduce_sum(squared_deltas)\n",
    "print sess.run(loss, {x: [1,2,3,4], y: [0, -1, -2, -3]})"
   ]
  },
  {
   "cell_type": "code",
   "execution_count": 12,
   "metadata": {
    "collapsed": false
   },
   "outputs": [
    {
     "name": "stdout",
     "output_type": "stream",
     "text": [
      "0.0\n"
     ]
    }
   ],
   "source": [
    "fixW = tf.assign(W, [-1.])\n",
    "fixb = tf.assign(b, [1.])\n",
    "sess.run([fixW, fixb])\n",
    "print sess.run(loss, {x: [1,2,3,4], y:[0, -1, -2, -3]})"
   ]
  },
  {
   "cell_type": "code",
   "execution_count": 13,
   "metadata": {
    "collapsed": false
   },
   "outputs": [],
   "source": [
    "optimizer = tf.train.GradientDescentOptimizer(0.01)\n",
    "train = optimizer.minimize(loss)"
   ]
  },
  {
   "cell_type": "code",
   "execution_count": 14,
   "metadata": {
    "collapsed": false
   },
   "outputs": [
    {
     "name": "stdout",
     "output_type": "stream",
     "text": [
      "[array([-0.9999969], dtype=float32), array([ 0.99999082], dtype=float32)]\n"
     ]
    }
   ],
   "source": [
    "sess.run(init)\n",
    "for i in range(1000):\n",
    "    sess.run(train, {x:[1,2,3,4], y:[0,-1,-2,-3]})\n",
    "print sess.run([W, b])"
   ]
  },
  {
   "cell_type": "code",
   "execution_count": 15,
   "metadata": {
    "collapsed": false
   },
   "outputs": [
    {
     "name": "stdout",
     "output_type": "stream",
     "text": [
      "[-0.9999969] [ 0.99999082] 5.69997e-11\n"
     ]
    },
    {
     "data": {
      "text/plain": [
       "<tensorflow.python.summary.writer.writer.FileWriter at 0x7fa008181590>"
      ]
     },
     "execution_count": 15,
     "metadata": {},
     "output_type": "execute_result"
    }
   ],
   "source": [
    "import numpy as np\n",
    "import tensorflow as tf\n",
    "\n",
    "# model param\n",
    "W = tf.Variable([.3], dtype=tf.float32)\n",
    "b = tf.Variable([-.3], dtype=tf.float32)\n",
    "\n",
    "# model input and output\n",
    "x = tf.placeholder(tf.float32)\n",
    "linear_model = (W * x) + b\n",
    "y = tf.placeholder(tf.float32)\n",
    "\n",
    "# loss\n",
    "loss = tf.reduce_sum(tf.square(linear_model - y))\n",
    "# optimizer\n",
    "optimizer = tf.train.GradientDescentOptimizer(0.01)\n",
    "train = optimizer.minimize(loss=loss)\n",
    "\n",
    "x_train = [1,2,3,4]\n",
    "y_train = [0, -1, -2, -3]\n",
    "#training loop\n",
    "init = tf.global_variables_initializer()\n",
    "sess = tf.Session()\n",
    "sess.run(init)\n",
    "for i in range(1000):\n",
    "    sess.run(train, {x: x_train, y: y_train})\n",
    "    \n",
    "# evaluate training accuracy\n",
    "curr_W, curr_b, curr_loss = sess.run([W, b, loss], {x: x_train, y: y_train})\n",
    "print curr_W, curr_b, curr_loss\n",
    "tf.summary.FileWriter('logs', sess.graph)"
   ]
  },
  {
   "cell_type": "code",
   "execution_count": 16,
   "metadata": {
    "collapsed": false
   },
   "outputs": [
    {
     "name": "stdout",
     "output_type": "stream",
     "text": [
      "INFO:tensorflow:Using default config.\n",
      "INFO:tensorflow:Using config: {'_model_dir': None, '_save_checkpoints_secs': 600, '_num_ps_replicas': 0, '_keep_checkpoint_max': 5, '_tf_random_seed': None, '_task_type': None, '_environment': 'local', '_is_chief': True, '_cluster_spec': <tensorflow.python.training.server_lib.ClusterSpec object at 0x7f9fcbee3350>, '_tf_config': gpu_options {\n",
      "  per_process_gpu_memory_fraction: 1.0\n",
      "}\n",
      ", '_num_worker_replicas': 0, '_task_id': 0, '_save_summary_steps': 100, '_save_checkpoints_steps': None, '_evaluation_master': '', '_keep_checkpoint_every_n_hours': 10000, '_master': ''}\n",
      "WARNING:tensorflow:Using temporary folder as model directory: /tmp/tmp6Cb7fo\n",
      "WARNING:tensorflow:Rank of input Tensor (1) should be the same as output_rank (2) for column. Will attempt to expand dims. It is highly recommended that you resize your input, as this behavior may change.\n",
      "WARNING:tensorflow:From /home/bramantyo-adrian/anaconda2/lib/python2.7/site-packages/tensorflow/contrib/learn/python/learn/estimators/head.py:615: scalar_summary (from tensorflow.python.ops.logging_ops) is deprecated and will be removed after 2016-11-30.\n",
      "Instructions for updating:\n",
      "Please switch to tf.summary.scalar. Note that tf.summary.scalar uses the node name instead of the tag. This means that TensorFlow will automatically de-duplicate summary names based on the scope they are created in. Also, passing a tensor or list of tags to a scalar summary op is no longer supported.\n",
      "INFO:tensorflow:Create CheckpointSaverHook.\n",
      "INFO:tensorflow:Saving checkpoints for 1 into /tmp/tmp6Cb7fo/model.ckpt.\n",
      "INFO:tensorflow:loss = 3.5, step = 1\n",
      "INFO:tensorflow:global_step/sec: 1231.23\n",
      "INFO:tensorflow:loss = 0.00840693, step = 101 (0.082 sec)\n",
      "INFO:tensorflow:global_step/sec: 1229.62\n",
      "INFO:tensorflow:loss = 0.0110172, step = 201 (0.081 sec)\n",
      "INFO:tensorflow:global_step/sec: 1298.6\n",
      "INFO:tensorflow:loss = 0.00177699, step = 301 (0.077 sec)\n",
      "INFO:tensorflow:global_step/sec: 841.589\n",
      "INFO:tensorflow:loss = 0.000402352, step = 401 (0.120 sec)\n",
      "INFO:tensorflow:global_step/sec: 916.077\n",
      "INFO:tensorflow:loss = 6.68326e-05, step = 501 (0.108 sec)\n",
      "INFO:tensorflow:global_step/sec: 993.464\n",
      "INFO:tensorflow:loss = 8.44272e-06, step = 601 (0.101 sec)\n",
      "INFO:tensorflow:global_step/sec: 1068.65\n",
      "INFO:tensorflow:loss = 4.81128e-06, step = 701 (0.093 sec)\n",
      "INFO:tensorflow:global_step/sec: 1375.59\n",
      "INFO:tensorflow:loss = 5.88497e-07, step = 801 (0.073 sec)\n",
      "INFO:tensorflow:global_step/sec: 1792.4\n",
      "INFO:tensorflow:loss = 1.61148e-07, step = 901 (0.056 sec)\n",
      "INFO:tensorflow:Saving checkpoints for 1000 into /tmp/tmp6Cb7fo/model.ckpt.\n",
      "INFO:tensorflow:Loss for final step: 3.19393e-08.\n",
      "WARNING:tensorflow:Rank of input Tensor (1) should be the same as output_rank (2) for column. Will attempt to expand dims. It is highly recommended that you resize your input, as this behavior may change.\n",
      "WARNING:tensorflow:From /home/bramantyo-adrian/anaconda2/lib/python2.7/site-packages/tensorflow/contrib/learn/python/learn/estimators/head.py:615: scalar_summary (from tensorflow.python.ops.logging_ops) is deprecated and will be removed after 2016-11-30.\n",
      "Instructions for updating:\n",
      "Please switch to tf.summary.scalar. Note that tf.summary.scalar uses the node name instead of the tag. This means that TensorFlow will automatically de-duplicate summary names based on the scope they are created in. Also, passing a tensor or list of tags to a scalar summary op is no longer supported.\n",
      "INFO:tensorflow:Starting evaluation at 2017-07-26-02:47:59\n",
      "INFO:tensorflow:Restoring parameters from /tmp/tmp6Cb7fo/model.ckpt-1000\n",
      "INFO:tensorflow:Finished evaluation at 2017-07-26-02:47:59\n",
      "INFO:tensorflow:Saving dict for global step 1000: global_step = 1000, loss = 2.5277e-08\n",
      "WARNING:tensorflow:Skipping summary for global_step, must be a float or np.float32.\n",
      "WARNING:tensorflow:Rank of input Tensor (1) should be the same as output_rank (2) for column. Will attempt to expand dims. It is highly recommended that you resize your input, as this behavior may change.\n",
      "WARNING:tensorflow:From /home/bramantyo-adrian/anaconda2/lib/python2.7/site-packages/tensorflow/contrib/learn/python/learn/estimators/head.py:615: scalar_summary (from tensorflow.python.ops.logging_ops) is deprecated and will be removed after 2016-11-30.\n",
      "Instructions for updating:\n",
      "Please switch to tf.summary.scalar. Note that tf.summary.scalar uses the node name instead of the tag. This means that TensorFlow will automatically de-duplicate summary names based on the scope they are created in. Also, passing a tensor or list of tags to a scalar summary op is no longer supported.\n",
      "INFO:tensorflow:Starting evaluation at 2017-07-26-02:47:59\n",
      "INFO:tensorflow:Restoring parameters from /tmp/tmp6Cb7fo/model.ckpt-1000\n",
      "INFO:tensorflow:Finished evaluation at 2017-07-26-02:48:00\n",
      "INFO:tensorflow:Saving dict for global step 1000: global_step = 1000, loss = 0.00254034\n",
      "WARNING:tensorflow:Skipping summary for global_step, must be a float or np.float32.\n",
      "{'loss': 2.5277036e-08, 'global_step': 1000}\n",
      "{'loss': 0.0025403355, 'global_step': 1000}\n"
     ]
    }
   ],
   "source": [
    "import tensorflow as tf\n",
    "import numpy as np\n",
    "\n",
    "features = [tf.contrib.layers.real_valued_column(\"x\", dimension=1)]\n",
    "\n",
    "estimator = tf.contrib.learn.LinearRegressor(feature_columns=features)\n",
    "\n",
    "x_train = np.array([1., 2., 3., 4.])\n",
    "y_train = np.array([0., -1., -2., -3.])\n",
    "x_eval = np.array([2., 5., 8., 1.])\n",
    "y_eval = np.array([-1.01, -4.1, -7, 0.])\n",
    "input_fn = tf.contrib.learn.io.numpy_input_fn(\n",
    "    {\"x\": x_train}, y_train, batch_size=4, num_epochs=1000\n",
    ")\n",
    "eval_input_fn = tf.contrib.learn.io.numpy_input_fn(\n",
    "    {\"x\": x_eval}, y_eval, batch_size=4, num_epochs=1000 \n",
    ")\n",
    "estimator.fit(input_fn=input_fn, steps=1000)\n",
    "train_loss = estimator.evaluate(input_fn=input_fn)\n",
    "eval_loss = estimator.evaluate(input_fn=eval_input_fn)\n",
    "print train_loss\n",
    "print eval_loss"
   ]
  },
  {
   "cell_type": "code",
   "execution_count": 17,
   "metadata": {
    "collapsed": false
   },
   "outputs": [
    {
     "name": "stdout",
     "output_type": "stream",
     "text": [
      "INFO:tensorflow:Using default config.\n",
      "INFO:tensorflow:Using config: {'_model_dir': None, '_save_checkpoints_secs': 600, '_num_ps_replicas': 0, '_keep_checkpoint_max': 5, '_tf_random_seed': None, '_task_type': None, '_environment': 'local', '_is_chief': True, '_cluster_spec': <tensorflow.python.training.server_lib.ClusterSpec object at 0x7f9fcb4c2810>, '_tf_config': gpu_options {\n",
      "  per_process_gpu_memory_fraction: 1.0\n",
      "}\n",
      ", '_num_worker_replicas': 0, '_task_id': 0, '_save_summary_steps': 100, '_save_checkpoints_steps': None, '_evaluation_master': '', '_keep_checkpoint_every_n_hours': 10000, '_master': ''}\n",
      "WARNING:tensorflow:Using temporary folder as model directory: /tmp/tmp45Q8Ra\n",
      "INFO:tensorflow:Create CheckpointSaverHook.\n",
      "INFO:tensorflow:Saving checkpoints for 1 into /tmp/tmp45Q8Ra/model.ckpt.\n",
      "INFO:tensorflow:loss = 7.35849958964, step = 1\n",
      "INFO:tensorflow:global_step/sec: 1153.32\n",
      "INFO:tensorflow:loss = 0.332543907749, step = 101 (0.088 sec)\n",
      "INFO:tensorflow:global_step/sec: 1290.84\n",
      "INFO:tensorflow:loss = 0.0308206380442, step = 201 (0.079 sec)\n",
      "INFO:tensorflow:global_step/sec: 1177.41\n",
      "INFO:tensorflow:loss = 0.00203131370152, step = 301 (0.084 sec)\n",
      "INFO:tensorflow:global_step/sec: 1316.36\n",
      "INFO:tensorflow:loss = 7.25728820729e-05, step = 401 (0.078 sec)\n",
      "INFO:tensorflow:global_step/sec: 1245.31\n",
      "INFO:tensorflow:loss = 1.57194440684e-05, step = 501 (0.079 sec)\n",
      "INFO:tensorflow:global_step/sec: 1161.93\n",
      "INFO:tensorflow:loss = 6.54420654094e-07, step = 601 (0.087 sec)\n",
      "INFO:tensorflow:global_step/sec: 1288.81\n",
      "INFO:tensorflow:loss = 1.59531724488e-07, step = 701 (0.076 sec)\n",
      "INFO:tensorflow:global_step/sec: 1579.4\n",
      "INFO:tensorflow:loss = 2.61256590816e-08, step = 801 (0.063 sec)\n",
      "INFO:tensorflow:global_step/sec: 1954.23\n",
      "INFO:tensorflow:loss = 7.87074851845e-10, step = 901 (0.051 sec)\n",
      "INFO:tensorflow:Saving checkpoints for 1000 into /tmp/tmp45Q8Ra/model.ckpt.\n",
      "INFO:tensorflow:Loss for final step: 1.55221143761e-10.\n",
      "INFO:tensorflow:Starting evaluation at 2017-07-26-02:48:01\n",
      "INFO:tensorflow:Restoring parameters from /tmp/tmp45Q8Ra/model.ckpt-1000\n",
      "INFO:tensorflow:Finished evaluation at 2017-07-26-02:48:02\n",
      "INFO:tensorflow:Saving dict for global step 1000: global_step = 1000, loss = 8.24865e-11\n",
      "WARNING:tensorflow:Skipping summary for global_step, must be a float or np.float32.\n",
      "INFO:tensorflow:Starting evaluation at 2017-07-26-02:48:02\n",
      "INFO:tensorflow:Restoring parameters from /tmp/tmp45Q8Ra/model.ckpt-1000\n",
      "INFO:tensorflow:Finished evaluation at 2017-07-26-02:48:03\n",
      "INFO:tensorflow:Saving dict for global step 1000: global_step = 1000, loss = 0.0101014\n",
      "WARNING:tensorflow:Skipping summary for global_step, must be a float or np.float32.\n",
      "{'loss': 8.2486483e-11, 'global_step': 1000} {'loss': 0.010101404, 'global_step': 1000}\n"
     ]
    }
   ],
   "source": [
    "import numpy as np\n",
    "import tensorflow as tf\n",
    "\n",
    "def model(features, labels, mode):\n",
    "    W = tf.get_variable('W', [1], dtype=tf.float64)\n",
    "    b = tf.get_variable('b', [1], dtype=tf.float64)\n",
    "    y = W * features['x'] + b\n",
    "    \n",
    "    loss = tf.reduce_sum(tf.square(y - labels))\n",
    "    \n",
    "    global_step = tf.train.get_global_step()\n",
    "    optimizer = tf.train.GradientDescentOptimizer(0.01)\n",
    "    train = tf.group(optimizer.minimize(loss=loss),\n",
    "                    tf.assign_add(global_step, 1))\n",
    "    \n",
    "    return tf.contrib.learn.ModelFnOps(\n",
    "        mode=mode, predictions=y, loss=loss, train_op=train\n",
    "    )\n",
    "estimator = tf.contrib.learn.Estimator(model_fn=model)\n",
    "\n",
    "x_train = np.array([1., 2., 3., 4.])\n",
    "y_train = np.array([0., -1., -2., -3.])\n",
    "x_eval = np.array([2., 5., 8., 1.])\n",
    "y_eval = np.array([-1.01, -4.1, -7, 0.])\n",
    "input_fn = tf.contrib.learn.io.numpy_input_fn(\n",
    "    {'x': x_train}, y_train, batch_size=4, num_epochs=1000\n",
    ")\n",
    "estimator.fit(input_fn=input_fn, steps=1000)\n",
    "\n",
    "train_loss = estimator.evaluate(input_fn=input_fn)\n",
    "eval_loss = estimator.evaluate(input_fn=eval_input_fn)\n",
    "print train_loss, eval_loss"
   ]
  },
  {
   "cell_type": "code",
   "execution_count": null,
   "metadata": {
    "collapsed": true
   },
   "outputs": [],
   "source": []
  }
 ],
 "metadata": {
  "kernelspec": {
   "display_name": "Python 2",
   "language": "python",
   "name": "python2"
  },
  "language_info": {
   "codemirror_mode": {
    "name": "ipython",
    "version": 2
   },
   "file_extension": ".py",
   "mimetype": "text/x-python",
   "name": "python",
   "nbconvert_exporter": "python",
   "pygments_lexer": "ipython2",
   "version": "2.7.13"
  }
 },
 "nbformat": 4,
 "nbformat_minor": 2
}
